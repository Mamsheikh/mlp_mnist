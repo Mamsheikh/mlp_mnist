{
  "nbformat": 4,
  "nbformat_minor": 0,
  "metadata": {
    "colab": {
      "name": "mlp_mnist",
      "version": "0.3.2",
      "provenance": [],
      "include_colab_link": true
    },
    "kernelspec": {
      "name": "python3",
      "display_name": "Python 3"
    },
    "accelerator": "GPU"
  },
  "cells": [
    {
      "cell_type": "markdown",
      "metadata": {
        "id": "view-in-github",
        "colab_type": "text"
      },
      "source": [
        "<a href=\"https://colab.research.google.com/github/Mamsheikh/mlp_mnist/blob/master/mlp_mnist.ipynb\" target=\"_parent\"><img src=\"https://colab.research.google.com/assets/colab-badge.svg\" alt=\"Open In Colab\"/></a>"
      ]
    },
    {
      "cell_type": "code",
      "metadata": {
        "id": "_BtFZEWGGSno",
        "colab_type": "code",
        "outputId": "ae314034-b831-4d47-c67f-7b64d01878fd",
        "colab": {
          "base_uri": "https://localhost:8080/",
          "height": 68
        }
      },
      "source": [
        "from keras.models import Sequential\n",
        "from keras.layers import Flatten, Dense\n",
        "from keras.datasets import mnist\n",
        "\n",
        "#load data\n",
        "\n",
        "(X_train, y_train), (X_test, y_test) = mnist.load_data()"
      ],
      "execution_count": 0,
      "outputs": [
        {
          "output_type": "stream",
          "text": [
            "Using TensorFlow backend.\n"
          ],
          "name": "stderr"
        },
        {
          "output_type": "stream",
          "text": [
            "Downloading data from https://s3.amazonaws.com/img-datasets/mnist.npz\n",
            "11493376/11490434 [==============================] - 2s 0us/step\n"
          ],
          "name": "stdout"
        }
      ]
    },
    {
      "cell_type": "code",
      "metadata": {
        "id": "kSwNgyqgPc8y",
        "colab_type": "code",
        "colab": {}
      },
      "source": [
        "#normalize\n",
        "\n",
        "X_train = X_train.astype('float')/255\n",
        "X_test = X_test.astype('float')/255"
      ],
      "execution_count": 0,
      "outputs": []
    },
    {
      "cell_type": "code",
      "metadata": {
        "id": "J5lY9jYZP1gh",
        "colab_type": "code",
        "colab": {}
      },
      "source": [
        "from keras.utils import np_utils\n",
        "\n",
        "y_train = np_utils.to_categorical(y_train, 10)\n",
        "y_test = np_utils.to_categorical(y_test, 10)"
      ],
      "execution_count": 0,
      "outputs": []
    },
    {
      "cell_type": "code",
      "metadata": {
        "id": "daias8wEOEFK",
        "colab_type": "code",
        "outputId": "2f34d722-b519-4101-9c75-5e7e4b93dab0",
        "colab": {
          "base_uri": "https://localhost:8080/",
          "height": 272
        }
      },
      "source": [
        "from keras.models import Sequential\n",
        "from keras.layers import Dense, Dropout, Flatten\n",
        "\n",
        "# define the model\n",
        "model = Sequential()\n",
        "model.add(Flatten(input_shape=X_train.shape[1:]))\n",
        "model.add(Dense(512, activation='relu'))\n",
        "model.add(Dropout(0.2))\n",
        "model.add(Dense(512, activation='relu'))\n",
        "model.add(Dropout(0.2))\n",
        "model.add(Dense(10, activation='softmax'))\n",
        "\n",
        "# summarize the model\n",
        "model.summary()"
      ],
      "execution_count": 0,
      "outputs": [
        {
          "output_type": "stream",
          "text": [
            "_________________________________________________________________\n",
            "Layer (type)                 Output Shape              Param #   \n",
            "=================================================================\n",
            "flatten_2 (Flatten)          (None, 784)               0         \n",
            "_________________________________________________________________\n",
            "dense_4 (Dense)              (None, 500)               392500    \n",
            "_________________________________________________________________\n",
            "dropout_3 (Dropout)          (None, 500)               0         \n",
            "_________________________________________________________________\n",
            "dense_5 (Dense)              (None, 10)                5010      \n",
            "=================================================================\n",
            "Total params: 397,510\n",
            "Trainable params: 397,510\n",
            "Non-trainable params: 0\n",
            "_________________________________________________________________\n"
          ],
          "name": "stdout"
        }
      ]
    },
    {
      "cell_type": "code",
      "metadata": {
        "id": "K4xbY0JuPSRy",
        "colab_type": "code",
        "colab": {}
      },
      "source": [
        "# compile the model\n",
        "model.compile(loss='categorical_crossentropy', optimizer='rmsprop', \n",
        "              metrics=['accuracy'])"
      ],
      "execution_count": 0,
      "outputs": []
    },
    {
      "cell_type": "code",
      "metadata": {
        "id": "0eyTO_mgOfWC",
        "colab_type": "code",
        "outputId": "6b55e1fe-a00d-4238-c2cb-500fc85163e3",
        "colab": {
          "base_uri": "https://localhost:8080/",
          "height": 34
        }
      },
      "source": [
        "# evaluate test accuracy\n",
        "score = model.evaluate(X_test, y_test, verbose=0)\n",
        "accuracy = 100*score[1]\n",
        "\n",
        "# print test accuracy\n",
        "print('Test accuracy: %.4f%%' % accuracy)"
      ],
      "execution_count": 0,
      "outputs": [
        {
          "output_type": "stream",
          "text": [
            "Test accuracy: 6.9100%\n"
          ],
          "name": "stdout"
        }
      ]
    },
    {
      "cell_type": "code",
      "metadata": {
        "id": "7Oba1rJeSJHb",
        "colab_type": "code",
        "outputId": "98ba1c4a-c511-4b74-eee8-35376735384d",
        "colab": {
          "base_uri": "https://localhost:8080/",
          "height": 714
        }
      },
      "source": [
        "\n",
        "\n",
        "from keras.callbacks import ModelCheckpoint   \n",
        "\n",
        "# train the model\n",
        "checkpointer = ModelCheckpoint(filepath='mnist.model.best.hdf5', \n",
        "                               verbose=1, save_best_only=True)\n",
        "hist = model.fit(X_train, y_train, batch_size=128, epochs=10,\n",
        "          validation_split=0.2, callbacks=[checkpointer],\n",
        "          verbose=1, shuffle=True)"
      ],
      "execution_count": 0,
      "outputs": [
        {
          "output_type": "stream",
          "text": [
            "Train on 48000 samples, validate on 12000 samples\n",
            "Epoch 1/10\n",
            "48000/48000 [==============================] - 2s 35us/step - loss: 0.3007 - acc: 0.9128 - val_loss: 0.1487 - val_acc: 0.9572\n",
            "\n",
            "Epoch 00001: val_loss improved from inf to 0.14869, saving model to mnist.model.best.hdf5\n",
            "Epoch 2/10\n",
            "48000/48000 [==============================] - 1s 30us/step - loss: 0.1312 - acc: 0.9605 - val_loss: 0.1089 - val_acc: 0.9677\n",
            "\n",
            "Epoch 00002: val_loss improved from 0.14869 to 0.10886, saving model to mnist.model.best.hdf5\n",
            "Epoch 3/10\n",
            "48000/48000 [==============================] - 1s 29us/step - loss: 0.0919 - acc: 0.9725 - val_loss: 0.0897 - val_acc: 0.9743\n",
            "\n",
            "Epoch 00003: val_loss improved from 0.10886 to 0.08969, saving model to mnist.model.best.hdf5\n",
            "Epoch 4/10\n",
            "48000/48000 [==============================] - 1s 30us/step - loss: 0.0700 - acc: 0.9793 - val_loss: 0.0853 - val_acc: 0.9739\n",
            "\n",
            "Epoch 00004: val_loss improved from 0.08969 to 0.08533, saving model to mnist.model.best.hdf5\n",
            "Epoch 5/10\n",
            "48000/48000 [==============================] - 1s 29us/step - loss: 0.0556 - acc: 0.9835 - val_loss: 0.0845 - val_acc: 0.9776\n",
            "\n",
            "Epoch 00005: val_loss improved from 0.08533 to 0.08446, saving model to mnist.model.best.hdf5\n",
            "Epoch 6/10\n",
            "48000/48000 [==============================] - 1s 30us/step - loss: 0.0457 - acc: 0.9863 - val_loss: 0.0829 - val_acc: 0.9751\n",
            "\n",
            "Epoch 00006: val_loss improved from 0.08446 to 0.08285, saving model to mnist.model.best.hdf5\n",
            "Epoch 7/10\n",
            "48000/48000 [==============================] - 1s 30us/step - loss: 0.0381 - acc: 0.9882 - val_loss: 0.0784 - val_acc: 0.9789\n",
            "\n",
            "Epoch 00007: val_loss improved from 0.08285 to 0.07837, saving model to mnist.model.best.hdf5\n",
            "Epoch 8/10\n",
            "48000/48000 [==============================] - 1s 30us/step - loss: 0.0334 - acc: 0.9899 - val_loss: 0.0762 - val_acc: 0.9797\n",
            "\n",
            "Epoch 00008: val_loss improved from 0.07837 to 0.07619, saving model to mnist.model.best.hdf5\n",
            "Epoch 9/10\n",
            "48000/48000 [==============================] - 1s 29us/step - loss: 0.0283 - acc: 0.9915 - val_loss: 0.0787 - val_acc: 0.9800\n",
            "\n",
            "Epoch 00009: val_loss did not improve from 0.07619\n",
            "Epoch 10/10\n",
            "48000/48000 [==============================] - 1s 29us/step - loss: 0.0245 - acc: 0.9925 - val_loss: 0.0827 - val_acc: 0.9799\n",
            "\n",
            "Epoch 00010: val_loss did not improve from 0.07619\n"
          ],
          "name": "stdout"
        }
      ]
    },
    {
      "cell_type": "code",
      "metadata": {
        "id": "zM5H7Q6nSdM9",
        "colab_type": "code",
        "colab": {}
      },
      "source": [
        "# load the weights that yielded the best validation accuracy\n",
        "model.load_weights('mnist.model.best.hdf5')"
      ],
      "execution_count": 0,
      "outputs": []
    },
    {
      "cell_type": "code",
      "metadata": {
        "id": "uj3un8ISTy7a",
        "colab_type": "code",
        "outputId": "678a89e0-f4b7-4020-f065-143a9e48b738",
        "colab": {
          "base_uri": "https://localhost:8080/",
          "height": 34
        }
      },
      "source": [
        "# evaluate test accuracy\n",
        "score = model.evaluate(X_test, y_test, verbose=0)\n",
        "accuracy = 100*score[1]\n",
        "\n",
        "# print test accuracy\n",
        "print('Test accuracy: %.4f%%' % accuracy)"
      ],
      "execution_count": 0,
      "outputs": [
        {
          "output_type": "stream",
          "text": [
            "Test accuracy: 98.1900%\n"
          ],
          "name": "stdout"
        }
      ]
    }
  ]
}